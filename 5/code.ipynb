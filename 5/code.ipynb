{
  "nbformat": 4,
  "nbformat_minor": 0,
  "metadata": {
    "colab": {
      "name": "ell715_assn5.ipynb",
      "provenance": [],
      "collapsed_sections": []
    },
    "kernelspec": {
      "name": "python3",
      "display_name": "Python 3"
    }
  },
  "cells": [
    {
      "cell_type": "code",
      "metadata": {
        "id": "X_Vkxdy4J0pW",
        "colab_type": "code",
        "outputId": "92b1b1ec-2ef6-4bf1-9a36-0f8def2cd6f3",
        "colab": {
          "base_uri": "https://localhost:8080/",
          "height": 34
        }
      },
      "source": [
        "# Mounting google drive\n",
        "from google.colab import drive\n",
        "drive.mount('/content/drive')"
      ],
      "execution_count": 0,
      "outputs": [
        {
          "output_type": "stream",
          "text": [
            "Drive already mounted at /content/drive; to attempt to forcibly remount, call drive.mount(\"/content/drive\", force_remount=True).\n"
          ],
          "name": "stdout"
        }
      ]
    },
    {
      "cell_type": "code",
      "metadata": {
        "id": "KgUpkl94IZ3y",
        "colab_type": "code",
        "colab": {}
      },
      "source": [
        "# Importing required packages\n",
        "import cv2 as cv\n",
        "import matplotlib.pyplot as plt\n",
        "import numpy as np\n",
        "from skimage import data, filters"
      ],
      "execution_count": 0,
      "outputs": []
    },
    {
      "cell_type": "code",
      "metadata": {
        "id": "mlrSUnom6LPz",
        "colab_type": "code",
        "colab": {}
      },
      "source": [
        "# Function to read image saved on google drive\n",
        "def readImage(number, jpg = False):\n",
        "    if jpg == True:\n",
        "        path = \"/content/drive/My Drive/images_ell715_assn5/\" + str(number) + \".jpg\"\n",
        "    else:\n",
        "        path = \"/content/drive/My Drive/images_ell715_assn5/\" + str(number) + \".tif\"\n",
        "    return cv.imread(path)\n",
        "\n",
        "# Function to display image using matplotlib\n",
        "def displayImage(a, title1 = \"Img\"):\n",
        "    plt.imshow(a, cmap='gray'), plt.title(title1)\n",
        "    plt.show()"
      ],
      "execution_count": 0,
      "outputs": []
    },
    {
      "cell_type": "code",
      "metadata": {
        "id": "Lm_EQPcpJoc4",
        "colab_type": "code",
        "colab": {}
      },
      "source": [
        "# Area-based cleaning of image\n",
        "def clean(img):\n",
        "    # Find all connected components\n",
        "    output = cv.connectedComponentsWithStats(np.uint8(img), 4, cv.CV_32S)\n",
        "    num_labels = output[0]\n",
        "    labels = output[1]\n",
        "    stats = output[2]\n",
        "    centroids = output[3]\n",
        "\n",
        "    # output image\n",
        "    cleaned = np.copy(np.uint8(img))\n",
        "    # if area of any connected component is less than area threshold, remove that component\n",
        "    areaThreshold = 25\n",
        "\n",
        "    for i in range(cleaned.shape[0]):\n",
        "        for j in range(cleaned.shape[1]):\n",
        "            if stats[labels[i][j], cv.CC_STAT_AREA] < areaThreshold:\n",
        "                cleaned[i][j] = 0\n",
        "    return cleaned"
      ],
      "execution_count": 0,
      "outputs": []
    },
    {
      "cell_type": "code",
      "metadata": {
        "id": "Exod63zTJR6l",
        "colab_type": "code",
        "colab": {}
      },
      "source": [
        "# Extract green channel from image\n",
        "def extractGreen(img):\n",
        "    b, g, r = cv.split(img)\n",
        "    displayImage(b, 'Blue Channel')\n",
        "    displayImage(g, 'Green channel')\n",
        "    displayImage(r, 'Red channel')\n",
        "    return g"
      ],
      "execution_count": 0,
      "outputs": []
    },
    {
      "cell_type": "code",
      "metadata": {
        "id": "if8k39vw9-MN",
        "colab_type": "code",
        "colab": {}
      },
      "source": [
        "# Function to apply clahe on input image\n",
        "def applyCLAHE(img):\n",
        "    # hyper-parameters in clahe\n",
        "    limit=3; grid=(7,7)\n",
        "    clahe = cv.createCLAHE(clipLimit=limit, tileGridSize=grid)\n",
        "    # output image\n",
        "    img = clahe.apply(img)\n",
        "    displayImage(img, \"CLAHE\")\n",
        "    return img"
      ],
      "execution_count": 0,
      "outputs": []
    },
    {
      "cell_type": "code",
      "metadata": {
        "id": "PTVZhgqQJ_0x",
        "colab_type": "code",
        "colab": {}
      },
      "source": [
        "# function to compute the gabor wavelets \n",
        "def gabor(r , c , kmax , f ,orient , scale , sig2 ): \n",
        "    gaborwavelet = np.zeros((r,c) , dtype = np.complex128)\n",
        "    k = (kmax/(f ** scale)) * np.exp(1j * orient * (np.pi/8))\n",
        "    kn2 = np.abs(k) ** 2\n",
        "\n",
        "    for m in range(int(-r/2) + 1 , int(r/2) + 1):\n",
        "        for n in range(int(-c/2) + 1 , int(c/2) + 1):\n",
        "            temp1 = np.exp(1j * (np.real(k) * m + np.imag(k) * n ) ) - np.exp(-0.5 * sig2)\n",
        "            temp2 = np.exp(-0.5 * kn2 * (m**2+n**2) / sig2 )\n",
        "            gaborwavelet[int(m + r/2 - 1), int(n + c/2 -1)] = (kn2 / sig2) * temp2 * (temp1)\n",
        " \n",
        "    return gaborwavelet"
      ],
      "execution_count": 0,
      "outputs": []
    },
    {
      "cell_type": "code",
      "metadata": {
        "id": "NX_XfX21TINu",
        "colab_type": "code",
        "colab": {}
      },
      "source": [
        "def applyGabor(img):\n",
        "    # plotting gabor wavelets at different orientations\n",
        "    fig = plt.figure()\n",
        "    for x in range(0,8):\n",
        "        gabor_wavelet = gabor(15, 15, np.pi / 2 , np.sqrt(2), x, 2, (np.pi/3) ** 2)\n",
        "        fig.add_subplot(1,8,x+1)\n",
        "        plt.imshow(np.real(gabor_wavelet) , cmap = 'gray')\n",
        "    plt.title('Gabor')\n",
        "    plt.show()\n",
        "\n",
        "    final_img = np.zeros(img.shape)\n",
        "    for u in range(0,8):\n",
        "        gaussian_wavelet = gabor(15 , 15, np.pi / 2,np.sqrt(2) , u, 2, (np.pi/3) ** 2)\n",
        "        t1 = cv.filter2D(img , cv.CV_32F, gaussian_wavelet.real) # taking convolution with real part to find the transformed image\n",
        "        t2 = cv.filter2D(img , cv.CV_32F, gaussian_wavelet.imag) # taking convolution with imaginary part to find the transformed image\n",
        "        temp = np.hypot(t1 , t2) # combining both output\n",
        "        final_img = np.maximum(final_img , temp)\n",
        "    return final_img"
      ],
      "execution_count": 0,
      "outputs": []
    },
    {
      "cell_type": "code",
      "metadata": {
        "id": "gSWKUoa1NcWI",
        "colab_type": "code",
        "colab": {}
      },
      "source": [
        "def wavelet(number):\n",
        "    # read image\n",
        "    img = readImage(number)\n",
        "    # extract green channel\n",
        "    img = extractGreen(img)\n",
        "    # apply clahe on green channel\n",
        "    img = applyCLAHE(img)\n",
        "    # use gabor wavelets on clahe output\n",
        "    final_img = applyGabor(img)\n",
        "\n",
        "    #plotting final image\n",
        "    plt.imshow(final_img , cmap = plt.get_cmap('gray'), vmin = 0 , vmax = np.max(final_img))\n",
        "    plt.title('Image after applying gabor wavelets')\n",
        "    plt.show()\n",
        "\n",
        "    # applying hysteresis on image to highlight features\n",
        "    hyst = filters.apply_hysteresis_threshold(final_img, 40, 40)\n",
        "    # hysteresis on out\n",
        "    displayImage(hyst, 'Hysteresis output')\n",
        "    # area thresholding on hysteresis output image\n",
        "    cleaned = clean(hyst)\n",
        "    displayImage(cleaned, 'Cleaned')\n",
        "    # closing operation to close holes in cleaned image\n",
        "    closing = cv.morphologyEx(cleaned, cv.MORPH_CLOSE, kernel = np.ones((3,3),np.uint8))\n",
        "    displayImage(closing, 'close')\n",
        "    return closing"
      ],
      "execution_count": 0,
      "outputs": []
    },
    {
      "cell_type": "code",
      "metadata": {
        "id": "op6gltgXK1Zu",
        "colab_type": "code",
        "colab": {}
      },
      "source": [
        "# Part 2\n",
        "def sobel(img):\n",
        "    # sobel operator on image\n",
        "    scale = 1\n",
        "    delta = 0\n",
        "    ddepth = cv.CV_16S\n",
        "    # 3*3 sobel operator\n",
        "    grad_x = cv.Sobel(img, ddepth, 1, 0, ksize=3, scale=scale, delta=delta, borderType=cv.BORDER_DEFAULT)\n",
        "    grad_y = cv.Sobel(img, ddepth, 0, 1, ksize=3, scale=scale, delta=delta, borderType=cv.BORDER_DEFAULT)\n",
        "    abs_grad_x = cv.convertScaleAbs(grad_x)\n",
        "    abs_grad_y = cv.convertScaleAbs(grad_y)\n",
        "    grad = cv.addWeighted(abs_grad_x, 0.5, abs_grad_y, 0.5, 0)\n",
        "    # display corresponding outputs from sobel operator\n",
        "    displayImage(abs_grad_x,'sobel')\n",
        "    displayImage(abs_grad_y,'sobel')\n",
        "    displayImage(grad,'sobel')\n",
        "    print(grad.max())\n",
        "    print(grad.min())\n",
        "    # hysteresis on sobel operator output image\n",
        "    final_grad = filters.apply_hysteresis_threshold(grad,24,24)\n",
        "    displayImage(final_grad,'binary')\n",
        "    return final_grad"
      ],
      "execution_count": 0,
      "outputs": []
    },
    {
      "cell_type": "code",
      "metadata": {
        "id": "IbfctGN0rhQc",
        "colab_type": "code",
        "colab": {}
      },
      "source": [
        "# Part 3\n",
        "def LoG(img):\n",
        "    # Applying gaussian on image\n",
        "    blur = cv.GaussianBlur(img,(3,3),0)\n",
        "    # Applying laplacian on the blur image to get the LOG output \n",
        "    LoG = cv.Laplacian(blur,cv.CV_16S)\n",
        "    displayImage(LoG,'without_hyst_LOG')\n",
        "    # Applying hystersis thersholding to convert the gray scale image to binary\n",
        "    final_img = filters.apply_hysteresis_threshold(LoG,4,4)\n",
        "    displayImage(final_img,'final_img_LOG')\n",
        "    #final_img = clean(final_img)\n",
        "    #displayImage(final_img,'cleaned_LoG')\n",
        "    return final_img"
      ],
      "execution_count": 0,
      "outputs": []
    },
    {
      "cell_type": "code",
      "metadata": {
        "id": "nk0uOmgvyQ6j",
        "colab_type": "code",
        "colab": {}
      },
      "source": [
        "# Function to run all three methods on image <number>.tif\n",
        "def segment(number):\n",
        "    wavelet(number)\n",
        "    img = readImage(number)\n",
        "    g = extractGreen(img)\n",
        "    cv.imwrite(\"/content/drive/My Drive/images_ell715_assn5/\"+str(number)+\"_w.png\",wavelet(number) * 255)   \n",
        "    cv.imwrite(\"/content/drive/My Drive/images_ell715_assn5/\"+str(number)+\"_s.png\", sobel(g) * 255)\n",
        "    cv.imwrite(\"/content/drive/My Drive/images_ell715_assn5/\"+str(number)+\"_l.png\", LoG(g) * 255) "
      ],
      "execution_count": 0,
      "outputs": []
    },
    {
      "cell_type": "code",
      "metadata": {
        "id": "6x6qTw6hIJdR",
        "colab_type": "code",
        "colab": {}
      },
      "source": [
        "# Run code for all images\n",
        "for i in range(1,21):\n",
        "  segment(i)"
      ],
      "execution_count": 0,
      "outputs": []
    },
    {
      "cell_type": "code",
      "metadata": {
        "id": "sWhdo7TNIPl6",
        "colab_type": "code",
        "colab": {}
      },
      "source": [
        ""
      ],
      "execution_count": 0,
      "outputs": []
    }
  ]
}