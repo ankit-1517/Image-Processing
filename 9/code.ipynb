{
 "cells": [
  {
   "cell_type": "code",
   "execution_count": null,
   "metadata": {
    "colab": {},
    "colab_type": "code",
    "id": "8nbSz0z--xOu"
   },
   "outputs": [],
   "source": [
    "import imutils\n",
    "import cv2 as cv\n",
    "import matplotlib.pyplot as plt\n",
    "import numpy as np\n",
    "from skimage import data, filters\n",
    "from skimage.filters import gaussian\n",
    "from skimage.segmentation import active_contour\n",
    "# plt.rcParams['figure.figsize'] = [10, 10]"
   ]
  },
  {
   "cell_type": "code",
   "execution_count": null,
   "metadata": {
    "colab": {},
    "colab_type": "code",
    "id": "PzqzMaI4-xOz"
   },
   "outputs": [],
   "source": [
    "# Function to read image saved on google drive\n",
    "def readImage(number, jpg = False):\n",
    "    if jpg == True:\n",
    "        path = \"images/\" + str(number) + \".jpg\"\n",
    "    else:\n",
    "        path = \"images/\" + str(number) + \".tif\"\n",
    "    img = cv.imread(path)\n",
    "    return img[:,:,::-1]\n",
    "\n",
    "# Function to display image using matplotlib\n",
    "def displayImage(a, title1 = \"Img\"):\n",
    "    plt.imshow(a, cmap='gray', vmin=0, vmax=255), plt.title(title1)\n",
    "    plt.show()"
   ]
  },
  {
   "cell_type": "code",
   "execution_count": null,
   "metadata": {
    "colab": {},
    "colab_type": "code",
    "id": "xEoAnxsU-xO2"
   },
   "outputs": [],
   "source": [
    "# Area-based cleaning of image\n",
    "def clean(img, areaThreshold = 25):\n",
    "    # Find all connected components\n",
    "    output = cv.connectedComponentsWithStats(np.uint8(img), 4, cv.CV_32S)\n",
    "    num_labels = output[0]\n",
    "    labels = output[1]\n",
    "    stats = output[2]\n",
    "    centroids = output[3]\n",
    "\n",
    "    # output image\n",
    "    cleaned = np.copy(np.uint8(img))\n",
    "    # if area of any connected component is less than area threshold, remove that component\n",
    "    for i in range(cleaned.shape[0]):\n",
    "        for j in range(cleaned.shape[1]):\n",
    "            if stats[labels[i][j], cv.CC_STAT_AREA] < areaThreshold:\n",
    "                cleaned[i][j] = 0\n",
    "    return cleaned"
   ]
  },
  {
   "cell_type": "code",
   "execution_count": null,
   "metadata": {
    "colab": {},
    "colab_type": "code",
    "id": "8uKSMVcV-xO9"
   },
   "outputs": [],
   "source": [
    "# Extract green channel from image\n",
    "def extractChannel(img, channel = 'g'):\n",
    "    # RGB instead of BGR bcooz we flipped it earlier while reading image\n",
    "    r, g, b = cv.split(img)\n",
    "    if channel == 'g':\n",
    "        return g\n",
    "    if channel == 'r':\n",
    "        return r\n",
    "    return b"
   ]
  },
  {
   "cell_type": "code",
   "execution_count": null,
   "metadata": {
    "colab": {},
    "colab_type": "code",
    "id": "U4bN_L0hdTQu"
   },
   "outputs": [],
   "source": [
    "# Function to apply clahe on input image\n",
    "def applyCLAHE(img):\n",
    "    # hyper-parameters in clahe\n",
    "    limit=3; grid=(7,7)\n",
    "    clahe = cv.createCLAHE(clipLimit=limit, tileGridSize=grid)\n",
    "    # output image\n",
    "    img = clahe.apply(img)\n",
    "    return img"
   ]
  },
  {
   "cell_type": "code",
   "execution_count": null,
   "metadata": {
    "colab": {},
    "colab_type": "code",
    "id": "9R1PLIBcdaqu"
   },
   "outputs": [],
   "source": [
    "def diskKernel(n):\n",
    "    return cv.getStructuringElement(cv.MORPH_ELLIPSE,(2*n - 1 , 2*n - 1))"
   ]
  },
  {
   "cell_type": "markdown",
   "metadata": {},
   "source": [
    "### Finding centre"
   ]
  },
  {
   "cell_type": "code",
   "execution_count": null,
   "metadata": {
    "colab": {
     "base_uri": "https://localhost:8080/",
     "height": 1000
    },
    "colab_type": "code",
    "id": "c-yEq1IodLIE",
    "outputId": "3d836307-d9fe-41bf-abf6-caf9d7521211"
   },
   "outputs": [],
   "source": [
    "img = readImage(1)\n",
    "displayImage(img)\n",
    "b = extractChannel(img, 'b')\n",
    "cl = applyCLAHE(b)\n",
    "filtered = cv.medianBlur(cl,5)\n",
    "opening = cv.morphologyEx(filtered, cv.MORPH_OPEN, diskKernel(5))\n",
    "ret,mask = cv.threshold(opening, 127, 255,cv.THRESH_BINARY)\n",
    "displayImage(mask, 'mask')\n",
    "\n",
    "eroding = cv.erode(mask, diskKernel(3) , iterations = 7)\n",
    "dilate = cv.dilate(eroding, diskKernel(3) , iterations = 15)\n",
    "close = cv.morphologyEx(dilate, cv.MORPH_CLOSE, diskKernel(5) , iterations = 14)\n",
    "displayImage(close)\n",
    "\n",
    "cnts = cv.findContours(close.copy(), cv.RETR_EXTERNAL, cv.CHAIN_APPROX_SIMPLE)\n",
    "cnts = imutils.grab_contours(cnts)\n",
    "for c in cnts:\n",
    "    # compute the center of the contour\n",
    "    M = cv.moments(c)\n",
    "    cX = int(M[\"m10\"] / M[\"m00\"])\n",
    "    cY = int(M[\"m01\"] / M[\"m00\"])\n",
    "    print(str(cX) + \" \" + str(cY))"
   ]
  },
  {
   "cell_type": "markdown",
   "metadata": {
    "colab": {},
    "colab_type": "code",
    "id": "j83tEgYy-xPn"
   },
   "source": [
    "### Finding contour"
   ]
  },
  {
   "cell_type": "code",
   "execution_count": null,
   "metadata": {},
   "outputs": [],
   "source": [
    "s = np.linspace(0, 2*np.pi, 400)\n",
    "r = cY + 50*np.sin(s)\n",
    "c = cX + 50*np.cos(s)\n",
    "init = np.array([r, c]).T\n",
    "g = extractChannel(img)\n",
    "snake = active_contour(gaussian(g, 3),\n",
    "                       init, alpha=0.01, beta=1, gamma=0.0001,\n",
    "                       coordinates='rc')\n",
    "\n",
    "fig, ax = plt.subplots(figsize=(7, 7))\n",
    "ax.imshow(g, cmap=plt.cm.gray)\n",
    "ax.plot(init[:, 1], init[:, 0], '--r', lw=3)\n",
    "ax.plot(snake[:, 1], snake[:, 0], '-b', lw=3)\n",
    "ax.set_xticks([]), ax.set_yticks([])\n",
    "ax.axis([0, g.shape[1], g.shape[0], 0])\n",
    "\n",
    "plt.show()"
   ]
  },
  {
   "cell_type": "markdown",
   "metadata": {},
   "source": [
    "### Extract mask"
   ]
  },
  {
   "cell_type": "code",
   "execution_count": null,
   "metadata": {},
   "outputs": [],
   "source": [
    "snake = np.array(snake, dtype=np.float32)\n",
    "final_mask = np.empty(img.shape)\n",
    "for i in range(img.shape[0]):\n",
    "    for j in range(img.shape[1]):\n",
    "        final_mask[i,j] = cv.pointPolygonTest(snake, (i, j), True)\n",
    "displayImage(final_mask)\n",
    "\n",
    "# Bring pixel values to [0, 1]\n",
    "final_mask -= np.min(final_mask)\n",
    "final_mask /= np.max(final_mask)\n",
    "print(np.min(final_mask), np.max(final_mask))\n",
    "final_mask[final_mask >= 0.95] = 1\n",
    "final_mask[final_mask < 0.95] = 0\n",
    "\n",
    "# closing\n",
    "close = cv.morphologyEx(final_mask, cv.MORPH_CLOSE, diskKernel(5))\n",
    "plt.imsave('output_part3/1.png', close, cmap='gray')"
   ]
  },
  {
   "cell_type": "code",
   "execution_count": null,
   "metadata": {},
   "outputs": [],
   "source": []
  },
  {
   "cell_type": "code",
   "execution_count": null,
   "metadata": {},
   "outputs": [],
   "source": []
  }
 ],
 "metadata": {
  "colab": {
   "name": "Assn 8 .ipynb",
   "provenance": []
  },
  "kernelspec": {
   "display_name": "Python 3",
   "language": "python",
   "name": "python3"
  },
  "language_info": {
   "codemirror_mode": {
    "name": "ipython",
    "version": 3
   },
   "file_extension": ".py",
   "mimetype": "text/x-python",
   "name": "python",
   "nbconvert_exporter": "python",
   "pygments_lexer": "ipython3",
   "version": "3.8.2"
  }
 },
 "nbformat": 4,
 "nbformat_minor": 1
}
